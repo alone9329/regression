{
  "cells": [
    {
      "metadata": {},
      "cell_type": "markdown",
      "source": "## import library\n"
    },
    {
      "metadata": {
        "trusted": true
      },
      "cell_type": "code",
      "source": "import numpy as np\nimport scipy\nfrom scipy import stats\n\n",
      "execution_count": 1,
      "outputs": []
    },
    {
      "metadata": {},
      "cell_type": "markdown",
      "source": "##  read csv by class"
    },
    {
      "metadata": {
        "trusted": true
      },
      "cell_type": "code",
      "source": "class read_csv():\n    def __init__(self, location):\n        self.location = np.mat(\n            np.loadtxt(open(location, \"rb\"), delimiter=\",\", skiprows=1))\n\n    def add_onecolumn(self):\n        m = self.location.shape[0]\n        b = np.ones(m)\n        self.location = np.c_[b, self.location]\n\n    def matrixT(self):\n        return self.location.T",
      "execution_count": 2,
      "outputs": []
    },
    {
      "metadata": {},
      "cell_type": "markdown",
      "source": "## define matrix times\n"
    },
    {
      "metadata": {
        "trusted": true
      },
      "cell_type": "code",
      "source": "def timesmatrix(a, b):\n    return np.matrix(np.dot(a, b))",
      "execution_count": 3,
      "outputs": []
    },
    {
      "metadata": {},
      "cell_type": "markdown",
      "source": "## def coefficient\n"
    },
    {
      "metadata": {
        "trusted": true
      },
      "cell_type": "code",
      "source": "def coefficient(a, b):\n    c = timesmatrix(a.T, a)\n    c = timesmatrix(c.I, a.T)\n    c = timesmatrix(c, b)\n    return c",
      "execution_count": 4,
      "outputs": []
    },
    {
      "metadata": {},
      "cell_type": "markdown",
      "source": "## def estimator"
    },
    {
      "metadata": {
        "trusted": true
      },
      "cell_type": "code",
      "source": "def estimator(a,c):\n    m,n=a.shape\n    y=np.ones([m, 1]) * c[0, 0]\n    y = np.mat(y)\n    for i in range(0, m ):\n\n        for j in range(0, n ):\n\n            y[i, 0] = y[i, 0] + c[j + 1, 0] * a[i, j]\n\n    return  y",
      "execution_count": 1,
      "outputs": []
    },
    {
      "metadata": {},
      "cell_type": "markdown",
      "source": "## def error"
    },
    {
      "metadata": {
        "trusted": true
      },
      "cell_type": "code",
      "source": "def error(a,b,c):\n    m,n=a.shape\n    y=estimator(a,c)\n    d_2=0.0\n    for i in range(0, m ):\n\n        d_2 = d_2 + (b[i, 0] - y[i, 0])**2\n\n    return  (d_2 / m)**0.5",
      "execution_count": 2,
      "outputs": []
    },
    {
      "metadata": {},
      "cell_type": "markdown",
      "source": "## def mean"
    },
    {
      "metadata": {
        "trusted": true
      },
      "cell_type": "code",
      "source": "def mean(a):\n    m,n=a.shape\n    b=0\n    for i in range(0,m):\n        b=b+a[i,0]\n\n    return b/m",
      "execution_count": 3,
      "outputs": []
    },
    {
      "metadata": {},
      "cell_type": "markdown",
      "source": "## def pearson"
    },
    {
      "metadata": {
        "trusted": true
      },
      "cell_type": "code",
      "source": "def pearson(x,y):\n    x_mean=mean(x)\n    y_mean=mean(y)\n    m,n=x.shape\n    a=0.0\n    b=0.0\n    c=0.0\n\n    for i in range(0,m):\n        a=a+(x[i,0]-x_mean)*(y[i,0]-y_mean)\n        b=b+(x[i,0]-x_mean)**2\n        c=c+(y[i,0]-y_mean)**2\n    \n    b=b**0.5\n    c=c**0.5\n    return a/(b*c)",
      "execution_count": 4,
      "outputs": []
    },
    {
      "metadata": {},
      "cell_type": "markdown",
      "source": "## Import data"
    },
    {
      "metadata": {
        "trusted": true
      },
      "cell_type": "code",
      "source": "airfoil_self_noise_X_train = read_csv(\n    'airfoil_self_noise_X_train.csv'\n)\nairfoil_self_noise_X_train.add_onecolumn()\nairfoil_self_noise_X_test = read_csv(\n    'airfoil_self_noise_X_test.csv'\n)\nairfoil_self_noise_y_train = read_csv(\n    'airfoil_self_noise_y_train.csv'\n)\nairfoil_self_noise_y_test = read_csv(\n    'airfoil_self_noise_y_test.csv'\n)",
      "execution_count": 9,
      "outputs": []
    },
    {
      "metadata": {},
      "cell_type": "markdown",
      "source": "## compute coeffcient"
    },
    {
      "metadata": {
        "trusted": true
      },
      "cell_type": "code",
      "source": "c = coefficient(airfoil_self_noise_X_train.location,\n                airfoil_self_noise_y_train.location.T)\nprint(c)",
      "execution_count": 10,
      "outputs": [
        {
          "output_type": "stream",
          "text": "[[ 1.33016784e+02]\n [-1.26731137e-03]\n [-4.15811308e-01]\n [-3.57516092e+01]\n [ 9.70923596e-02]\n [-1.53467395e+02]]\n",
          "name": "stdout"
        }
      ]
    },
    {
      "metadata": {},
      "cell_type": "markdown",
      "source": "## compute error"
    },
    {
      "metadata": {
        "trusted": true
      },
      "cell_type": "code",
      "source": "error=error(airfoil_self_noise_X_test.location,airfoil_self_noise_y_test.location.T,c)\nprint(error)",
      "execution_count": 11,
      "outputs": [
        {
          "output_type": "stream",
          "text": "5.382738254958856\n",
          "name": "stdout"
        }
      ]
    },
    {
      "metadata": {},
      "cell_type": "markdown",
      "source": "## compute Pearson"
    },
    {
      "metadata": {
        "trusted": true
      },
      "cell_type": "code",
      "source": "y_estimator=estimator(airfoil_self_noise_X_test.location,c)\npearson=pearson(airfoil_self_noise_y_test.location.T,y_estimator)\nprint(pearson)",
      "execution_count": 12,
      "outputs": [
        {
          "output_type": "stream",
          "text": "0.6786863274816954\n",
          "name": "stdout"
        }
      ]
    },
    {
      "metadata": {
        "trusted": true
      },
      "cell_type": "code",
      "source": "",
      "execution_count": null,
      "outputs": []
    }
  ],
  "metadata": {
    "kernelspec": {
      "name": "python36",
      "display_name": "Python 3.6",
      "language": "python"
    },
    "language_info": {
      "mimetype": "text/x-python",
      "nbconvert_exporter": "python",
      "name": "python",
      "pygments_lexer": "ipython3",
      "version": "3.6.6",
      "file_extension": ".py",
      "codemirror_mode": {
        "version": 3,
        "name": "ipython"
      }
    }
  },
  "nbformat": 4,
  "nbformat_minor": 1
}